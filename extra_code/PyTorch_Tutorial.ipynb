{
 "cells": [
  {
   "cell_type": "markdown",
   "metadata": {
    "id": "srhxPF1SPYUL"
   },
   "source": [
    "## Importe"
   ]
  },
  {
   "cell_type": "code",
   "execution_count": 1,
   "metadata": {
    "id": "oaZZsPBbOPaE"
   },
   "outputs": [],
   "source": [
    "import torch\n",
    "import torchvision\n",
    "import torchvision.transforms as transforms\n",
    "from torch.utils.data import TensorDataset, DataLoader, Dataset\n",
    "import torch.nn as nn\n",
    "import torch.nn.functional as F\n",
    "import torch.optim as optim\n",
    "\n",
    "import numpy as np\n",
    "import matplotlib.pyplot as plt"
   ]
  },
  {
   "cell_type": "code",
   "execution_count": null,
   "metadata": {
    "id": "89AlvjlrPXUX"
   },
   "outputs": [],
   "source": []
  },
  {
   "cell_type": "markdown",
   "metadata": {
    "id": "x0PpunNRQ-vO"
   },
   "source": [
    "## MNIST Dataset"
   ]
  },
  {
   "cell_type": "code",
   "execution_count": null,
   "metadata": {
    "id": "PmyXclcBRA9Z"
   },
   "outputs": [],
   "source": [
    "mnist_train = np.loadtxt(\"/content/sample_data/mnist_train_small.csv\", delimiter=\",\")\n",
    "mnist_test = np.loadtxt(\"/content/sample_data/mnist_test.csv\", delimiter=\",\")"
   ]
  },
  {
   "cell_type": "code",
   "execution_count": null,
   "metadata": {
    "id": "vGsNeP7fXZq_"
   },
   "outputs": [],
   "source": [
    "mnist_train_X, mnist_train_y = mnist_train[:, 1:], mnist_train[:, 0]\n",
    "mnist_test_X, mnist_test_y = mnist_test[:, 1:], mnist_test[:, 0]\n",
    "\n",
    "# Type float weil single precision für Neuronale Netzwerke bevorzugt ist\n",
    "mnist_train_X = torch.from_numpy(mnist_train_X).float()\n",
    "mnist_train_y = torch.from_numpy(mnist_train_y).long()\n",
    "\n",
    "mnist_test_X = torch.from_numpy(mnist_test_X).float()\n",
    "mnist_test_y = torch.from_numpy(mnist_test_y).long()"
   ]
  },
  {
   "cell_type": "code",
   "execution_count": null,
   "metadata": {
    "id": "-JGp_0wBX60J"
   },
   "outputs": [],
   "source": [
    "mnist_trainset = TensorDataset(\n",
    "    mnist_train_X,\n",
    "    mnist_train_y\n",
    ")\n",
    "\n",
    "mnist_testet = TensorDataset(\n",
    "    mnist_test_X,\n",
    "    mnist_test_y\n",
    ")\n",
    "\n",
    "mnist_trainloader = DataLoader(mnist_trainset, batch_size=32)\n",
    "mnist_testloader = DataLoader(mnist_testet, batch_size=1000)"
   ]
  },
  {
   "cell_type": "code",
   "execution_count": null,
   "metadata": {
    "colab": {
     "base_uri": "https://localhost:8080/"
    },
    "id": "ptBnBN5PkyfV",
    "outputId": "4f8d653d-c80d-42ec-f679-48d6fdf9a68d"
   },
   "outputs": [
    {
     "name": "stdout",
     "output_type": "stream",
     "text": [
      "0\n",
      "1\n",
      "2\n",
      "3\n",
      "4\n",
      "5\n",
      "6\n",
      "7\n",
      "8\n",
      "9\n",
      "10\n",
      "11\n",
      "12\n",
      "13\n",
      "14\n",
      "15\n",
      "16\n",
      "17\n",
      "18\n",
      "19\n",
      "20\n",
      "21\n",
      "22\n",
      "23\n",
      "24\n",
      "25\n",
      "26\n",
      "27\n",
      "28\n",
      "29\n",
      "30\n",
      "31\n",
      "32\n",
      "33\n",
      "34\n",
      "35\n",
      "36\n",
      "37\n",
      "38\n",
      "39\n",
      "40\n",
      "41\n",
      "42\n",
      "43\n",
      "44\n",
      "45\n",
      "46\n",
      "47\n",
      "48\n",
      "49\n",
      "50\n",
      "51\n",
      "52\n",
      "53\n",
      "54\n",
      "55\n",
      "56\n",
      "57\n",
      "58\n",
      "59\n",
      "60\n",
      "61\n",
      "62\n",
      "63\n",
      "64\n",
      "65\n",
      "66\n",
      "67\n",
      "68\n",
      "69\n",
      "70\n",
      "71\n",
      "72\n",
      "73\n",
      "74\n",
      "75\n",
      "76\n",
      "77\n",
      "78\n",
      "79\n",
      "80\n",
      "81\n",
      "82\n",
      "83\n",
      "84\n",
      "85\n",
      "86\n",
      "87\n",
      "88\n",
      "89\n",
      "90\n",
      "91\n",
      "92\n",
      "93\n",
      "94\n",
      "95\n",
      "96\n",
      "97\n",
      "98\n",
      "99\n",
      "100\n",
      "101\n",
      "102\n",
      "103\n",
      "104\n",
      "105\n",
      "106\n",
      "107\n",
      "108\n",
      "109\n",
      "110\n",
      "111\n",
      "112\n",
      "113\n",
      "114\n",
      "115\n",
      "116\n",
      "117\n",
      "118\n",
      "119\n",
      "120\n",
      "121\n",
      "122\n",
      "123\n",
      "124\n",
      "125\n",
      "126\n",
      "127\n",
      "128\n",
      "129\n",
      "130\n",
      "131\n",
      "132\n",
      "133\n",
      "134\n",
      "135\n",
      "136\n",
      "137\n",
      "138\n",
      "139\n",
      "140\n",
      "141\n",
      "142\n",
      "143\n",
      "144\n",
      "145\n",
      "146\n",
      "147\n",
      "148\n",
      "149\n",
      "150\n",
      "151\n",
      "152\n",
      "153\n",
      "154\n",
      "155\n",
      "156\n",
      "157\n",
      "158\n",
      "159\n",
      "160\n",
      "161\n",
      "162\n",
      "163\n",
      "164\n",
      "165\n",
      "166\n",
      "167\n",
      "168\n",
      "169\n",
      "170\n",
      "171\n",
      "172\n",
      "173\n",
      "174\n",
      "175\n",
      "176\n",
      "177\n",
      "178\n",
      "179\n",
      "180\n",
      "181\n",
      "182\n",
      "183\n",
      "184\n",
      "185\n",
      "186\n",
      "187\n",
      "188\n",
      "189\n",
      "190\n",
      "191\n",
      "192\n",
      "193\n",
      "194\n",
      "195\n",
      "196\n",
      "197\n",
      "198\n",
      "199\n",
      "200\n",
      "201\n",
      "202\n",
      "203\n",
      "204\n",
      "205\n",
      "206\n",
      "207\n",
      "208\n",
      "209\n",
      "210\n",
      "211\n",
      "212\n",
      "213\n",
      "214\n",
      "215\n",
      "216\n",
      "217\n",
      "218\n",
      "219\n",
      "220\n",
      "221\n",
      "222\n",
      "223\n",
      "224\n",
      "225\n",
      "226\n",
      "227\n",
      "228\n",
      "229\n",
      "230\n",
      "231\n",
      "232\n",
      "233\n",
      "234\n",
      "235\n",
      "236\n",
      "237\n",
      "238\n",
      "239\n",
      "240\n",
      "241\n",
      "242\n",
      "243\n",
      "244\n",
      "245\n",
      "246\n",
      "247\n",
      "248\n",
      "249\n",
      "250\n",
      "251\n",
      "252\n",
      "253\n",
      "254\n",
      "255\n",
      "256\n",
      "257\n",
      "258\n",
      "259\n",
      "260\n",
      "261\n",
      "262\n",
      "263\n",
      "264\n",
      "265\n",
      "266\n",
      "267\n",
      "268\n",
      "269\n",
      "270\n",
      "271\n",
      "272\n",
      "273\n",
      "274\n",
      "275\n",
      "276\n",
      "277\n",
      "278\n",
      "279\n",
      "280\n",
      "281\n",
      "282\n",
      "283\n",
      "284\n",
      "285\n",
      "286\n",
      "287\n",
      "288\n",
      "289\n",
      "290\n",
      "291\n",
      "292\n",
      "293\n",
      "294\n",
      "295\n",
      "296\n",
      "297\n",
      "298\n",
      "299\n",
      "300\n",
      "301\n",
      "302\n",
      "303\n",
      "304\n",
      "305\n",
      "306\n",
      "307\n",
      "308\n",
      "309\n",
      "310\n",
      "311\n",
      "312\n",
      "313\n",
      "314\n",
      "315\n",
      "316\n",
      "317\n",
      "318\n",
      "319\n",
      "320\n",
      "321\n",
      "322\n",
      "323\n",
      "324\n",
      "325\n",
      "326\n",
      "327\n",
      "328\n",
      "329\n",
      "330\n",
      "331\n",
      "332\n",
      "333\n",
      "334\n",
      "335\n",
      "336\n",
      "337\n",
      "338\n",
      "339\n",
      "340\n",
      "341\n",
      "342\n",
      "343\n",
      "344\n",
      "345\n",
      "346\n",
      "347\n",
      "348\n",
      "349\n",
      "350\n",
      "351\n",
      "352\n",
      "353\n",
      "354\n",
      "355\n",
      "356\n",
      "357\n",
      "358\n",
      "359\n",
      "360\n",
      "361\n",
      "362\n",
      "363\n",
      "364\n",
      "365\n",
      "366\n",
      "367\n",
      "368\n",
      "369\n",
      "370\n",
      "371\n",
      "372\n",
      "373\n",
      "374\n",
      "375\n",
      "376\n",
      "377\n",
      "378\n",
      "379\n",
      "380\n",
      "381\n",
      "382\n",
      "383\n",
      "384\n",
      "385\n",
      "386\n",
      "387\n",
      "388\n",
      "389\n",
      "390\n",
      "391\n",
      "392\n",
      "393\n",
      "394\n",
      "395\n",
      "396\n",
      "397\n",
      "398\n",
      "399\n",
      "400\n",
      "401\n",
      "402\n",
      "403\n",
      "404\n",
      "405\n",
      "406\n",
      "407\n",
      "408\n",
      "409\n",
      "410\n",
      "411\n",
      "412\n",
      "413\n",
      "414\n",
      "415\n",
      "416\n",
      "417\n",
      "418\n",
      "419\n",
      "420\n",
      "421\n",
      "422\n",
      "423\n",
      "424\n",
      "425\n",
      "426\n",
      "427\n",
      "428\n",
      "429\n",
      "430\n",
      "431\n",
      "432\n",
      "433\n",
      "434\n",
      "435\n",
      "436\n",
      "437\n",
      "438\n",
      "439\n",
      "440\n",
      "441\n",
      "442\n",
      "443\n",
      "444\n",
      "445\n",
      "446\n",
      "447\n",
      "448\n",
      "449\n",
      "450\n",
      "451\n",
      "452\n",
      "453\n",
      "454\n",
      "455\n",
      "456\n",
      "457\n",
      "458\n",
      "459\n",
      "460\n",
      "461\n",
      "462\n",
      "463\n",
      "464\n",
      "465\n",
      "466\n",
      "467\n",
      "468\n",
      "469\n",
      "470\n",
      "471\n",
      "472\n",
      "473\n",
      "474\n",
      "475\n",
      "476\n",
      "477\n",
      "478\n",
      "479\n",
      "480\n",
      "481\n",
      "482\n",
      "483\n",
      "484\n",
      "485\n",
      "486\n",
      "487\n",
      "488\n",
      "489\n",
      "490\n",
      "491\n",
      "492\n",
      "493\n",
      "494\n",
      "495\n",
      "496\n",
      "497\n",
      "498\n",
      "499\n",
      "500\n",
      "501\n",
      "502\n",
      "503\n",
      "504\n",
      "505\n",
      "506\n",
      "507\n",
      "508\n",
      "509\n",
      "510\n",
      "511\n",
      "512\n",
      "513\n",
      "514\n",
      "515\n",
      "516\n",
      "517\n",
      "518\n",
      "519\n",
      "520\n",
      "521\n",
      "522\n",
      "523\n",
      "524\n",
      "525\n",
      "526\n",
      "527\n",
      "528\n",
      "529\n",
      "530\n",
      "531\n",
      "532\n",
      "533\n",
      "534\n",
      "535\n",
      "536\n",
      "537\n",
      "538\n",
      "539\n",
      "540\n",
      "541\n",
      "542\n",
      "543\n",
      "544\n",
      "545\n",
      "546\n",
      "547\n",
      "548\n",
      "549\n",
      "550\n",
      "551\n",
      "552\n",
      "553\n",
      "554\n",
      "555\n",
      "556\n",
      "557\n",
      "558\n",
      "559\n",
      "560\n",
      "561\n",
      "562\n",
      "563\n",
      "564\n",
      "565\n",
      "566\n",
      "567\n",
      "568\n",
      "569\n",
      "570\n",
      "571\n",
      "572\n",
      "573\n",
      "574\n",
      "575\n",
      "576\n",
      "577\n",
      "578\n",
      "579\n",
      "580\n",
      "581\n",
      "582\n",
      "583\n",
      "584\n",
      "585\n",
      "586\n",
      "587\n",
      "588\n",
      "589\n",
      "590\n",
      "591\n",
      "592\n",
      "593\n",
      "594\n",
      "595\n",
      "596\n",
      "597\n",
      "598\n",
      "599\n",
      "600\n",
      "601\n",
      "602\n",
      "603\n",
      "604\n",
      "605\n",
      "606\n",
      "607\n",
      "608\n",
      "609\n",
      "610\n",
      "611\n",
      "612\n",
      "613\n",
      "614\n",
      "615\n",
      "616\n",
      "617\n",
      "618\n",
      "619\n",
      "620\n",
      "621\n",
      "622\n",
      "623\n",
      "624\n"
     ]
    }
   ],
   "source": [
    "# Funktion des DataLoaders\n",
    "for i, batch in enumerate(mnist_trainloader):\n",
    "    print(i)\n",
    "    \n",
    "\n",
    "inputs, labels = batch"
   ]
  },
  {
   "cell_type": "code",
   "execution_count": null,
   "metadata": {
    "colab": {
     "base_uri": "https://localhost:8080/"
    },
    "id": "U3Cad2MjlB-m",
    "outputId": "b548726b-8b5f-4822-ac08-17645429e9cc"
   },
   "outputs": [
    {
     "data": {
      "text/plain": [
       "20000"
      ]
     },
     "execution_count": 6,
     "metadata": {
      "tags": []
     },
     "output_type": "execute_result"
    }
   ],
   "source": [
    "625 * 32"
   ]
  },
  {
   "cell_type": "code",
   "execution_count": null,
   "metadata": {
    "colab": {
     "base_uri": "https://localhost:8080/"
    },
    "id": "uh99b1UblOl2",
    "outputId": "ad6f6fd6-efba-4ac0-c29d-de469cda75b3"
   },
   "outputs": [
    {
     "data": {
      "text/plain": [
       "tensor([1, 7, 1, 9, 5, 5, 1, 6, 8, 4, 9, 3, 3, 4, 1, 2, 4, 6, 0, 3, 1, 3, 9, 6,\n",
       "        5, 5, 0, 0, 1, 2, 9, 5])"
      ]
     },
     "execution_count": 7,
     "metadata": {
      "tags": []
     },
     "output_type": "execute_result"
    }
   ],
   "source": [
    "labels"
   ]
  },
  {
   "cell_type": "code",
   "execution_count": null,
   "metadata": {
    "id": "qqVELuavYfVD"
   },
   "outputs": [],
   "source": [
    "x0, y0 = mnist_trainset[0]"
   ]
  },
  {
   "cell_type": "code",
   "execution_count": null,
   "metadata": {
    "colab": {
     "base_uri": "https://localhost:8080/"
    },
    "id": "qawItfgPYoW4",
    "outputId": "674b0407-768f-4d10-8bc4-d78807a9304a"
   },
   "outputs": [
    {
     "data": {
      "text/plain": [
       "tensor(6)"
      ]
     },
     "execution_count": 9,
     "metadata": {
      "tags": []
     },
     "output_type": "execute_result"
    }
   ],
   "source": [
    "y0"
   ]
  },
  {
   "cell_type": "code",
   "execution_count": null,
   "metadata": {
    "colab": {
     "base_uri": "https://localhost:8080/"
    },
    "id": "1IcvGBGTXrqQ",
    "outputId": "5473f843-80fd-40d3-fbc2-8c01f80dcfb0"
   },
   "outputs": [
    {
     "data": {
      "text/plain": [
       "torch.Size([20000, 784])"
      ]
     },
     "execution_count": 10,
     "metadata": {
      "tags": []
     },
     "output_type": "execute_result"
    }
   ],
   "source": [
    "mnist_train_X.shape"
   ]
  },
  {
   "cell_type": "code",
   "execution_count": null,
   "metadata": {
    "colab": {
     "base_uri": "https://localhost:8080/"
    },
    "id": "LFXqNmvdYGsR",
    "outputId": "13d0728a-6c2f-4acb-99f1-0e84e7bfdf7c"
   },
   "outputs": [
    {
     "data": {
      "text/plain": [
       "torch.Size([20000])"
      ]
     },
     "execution_count": 11,
     "metadata": {
      "tags": []
     },
     "output_type": "execute_result"
    }
   ],
   "source": [
    "mnist_train_y.shape"
   ]
  },
  {
   "cell_type": "markdown",
   "metadata": {
    "id": "VY-1TlEvRRjd"
   },
   "source": [
    "## CIFAR10 Dataset"
   ]
  },
  {
   "cell_type": "code",
   "execution_count": null,
   "metadata": {
    "colab": {
     "base_uri": "https://localhost:8080/"
    },
    "id": "utIz8Dq4RTN5",
    "outputId": "13243d42-e900-48a8-fe58-919a33867abb"
   },
   "outputs": [
    {
     "name": "stdout",
     "output_type": "stream",
     "text": [
      "Files already downloaded and verified\n",
      "Files already downloaded and verified\n"
     ]
    }
   ],
   "source": [
    "transform = transforms.Compose(\n",
    "    [transforms.ToTensor(),\n",
    "     #transforms.Normalize((0.5, 0.5, 0.5), (0.5, 0.5, 0.5))\n",
    "    ])\n",
    "\n",
    "trainset = torchvision.datasets.CIFAR10(root='./data', train=True,\n",
    "                                        download=True, transform=transform)\n",
    "\n",
    "trainloader = torch.utils.data.DataLoader(trainset, batch_size=4,\n",
    "                                          shuffle=True, num_workers=2)\n",
    "\n",
    "testset = torchvision.datasets.CIFAR10(root='./data', train=False,\n",
    "                                       download=True, transform=transform)\n",
    "\n",
    "testloader = torch.utils.data.DataLoader(testset, batch_size=4,\n",
    "                                         shuffle=False, num_workers=2)\n",
    "\n",
    "classes = ('plane', 'car', 'bird', 'cat',\n",
    "           'deer', 'dog', 'frog', 'horse', 'ship', 'truck')"
   ]
  },
  {
   "cell_type": "code",
   "execution_count": null,
   "metadata": {
    "id": "AEGxleLgSMrF"
   },
   "outputs": [],
   "source": [
    "# Torchvision Datasets können indiziiert werden und implementieren __len__\n",
    "N = len(trainset)\n",
    "x0, y0 = trainset[0]"
   ]
  },
  {
   "cell_type": "code",
   "execution_count": null,
   "metadata": {
    "colab": {
     "base_uri": "https://localhost:8080/"
    },
    "id": "_3yvqClOSgWG",
    "outputId": "1c8f8334-30ee-453d-c55a-eb502301794f"
   },
   "outputs": [
    {
     "data": {
      "text/plain": [
       "torch.Size([3, 32, 32])"
      ]
     },
     "execution_count": 14,
     "metadata": {
      "tags": []
     },
     "output_type": "execute_result"
    }
   ],
   "source": [
    "x0.shape"
   ]
  },
  {
   "cell_type": "code",
   "execution_count": null,
   "metadata": {
    "colab": {
     "base_uri": "https://localhost:8080/"
    },
    "id": "X4c44nbMTIpv",
    "outputId": "7ab91801-6c4f-4723-b53c-7033702937f6"
   },
   "outputs": [
    {
     "data": {
      "text/plain": [
       "6"
      ]
     },
     "execution_count": 15,
     "metadata": {
      "tags": []
     },
     "output_type": "execute_result"
    }
   ],
   "source": [
    "y0"
   ]
  },
  {
   "cell_type": "code",
   "execution_count": null,
   "metadata": {
    "id": "NP4UEH1YUZGC"
   },
   "outputs": [],
   "source": [
    "# Tensoren können einfach auf die Grafikkarte verschoben werden\n",
    "x0_cuda = x0.cuda()\n",
    "\n",
    "# Tensoren enthalten Funktionalität zur Auto-Differenzierung\n",
    "x0.requires_grad\n",
    "\n",
    "# Tensoren können problemlos in Numpy-Arrays umgewandelt werden\n",
    "x0_numpy = x0.numpy()"
   ]
  },
  {
   "cell_type": "code",
   "execution_count": null,
   "metadata": {
    "colab": {
     "base_uri": "https://localhost:8080/",
     "height": 284
    },
    "id": "zEIYpUPzTOvb",
    "outputId": "9f59da31-d599-44bd-c970-5e01036b5d20"
   },
   "outputs": [
    {
     "data": {
      "text/plain": [
       "<matplotlib.image.AxesImage at 0x7fa77b3bac88>"
      ]
     },
     "execution_count": 17,
     "metadata": {
      "tags": []
     },
     "output_type": "execute_result"
    },
    {
     "data": {
      "image/png": "[encoded data removed]",
      "text/plain": [
       "<Figure size 432x288 with 1 Axes>"
      ]
     },
     "metadata": {
      "needs_background": "light",
      "tags": []
     },
     "output_type": "display_data"
    }
   ],
   "source": [
    "plt.imshow(np.transpose(x0_numpy, axes=(1, 2, 0)))"
   ]
  },
  {
   "cell_type": "code",
   "execution_count": null,
   "metadata": {
    "colab": {
     "base_uri": "https://localhost:8080/"
    },
    "id": "DShkHttQT09l",
    "outputId": "197ea7fa-8868-454e-986d-d4f4105cbf87"
   },
   "outputs": [
    {
     "data": {
      "text/plain": [
       "array([[[0.23137255, 0.16862746, 0.19607843, ..., 0.61960787,\n",
       "         0.59607846, 0.5803922 ],\n",
       "        [0.0627451 , 0.        , 0.07058824, ..., 0.48235294,\n",
       "         0.46666667, 0.47843137],\n",
       "        [0.09803922, 0.0627451 , 0.19215687, ..., 0.4627451 ,\n",
       "         0.47058824, 0.42745098],\n",
       "        ...,\n",
       "        [0.8156863 , 0.7882353 , 0.7764706 , ..., 0.627451  ,\n",
       "         0.21960784, 0.20784314],\n",
       "        [0.7058824 , 0.6784314 , 0.7294118 , ..., 0.72156864,\n",
       "         0.38039216, 0.3254902 ],\n",
       "        [0.69411767, 0.65882355, 0.7019608 , ..., 0.84705883,\n",
       "         0.5921569 , 0.48235294]],\n",
       "\n",
       "       [[0.24313726, 0.18039216, 0.1882353 , ..., 0.5176471 ,\n",
       "         0.49019608, 0.4862745 ],\n",
       "        [0.07843138, 0.        , 0.03137255, ..., 0.34509805,\n",
       "         0.3254902 , 0.34117648],\n",
       "        [0.09411765, 0.02745098, 0.10588235, ..., 0.32941177,\n",
       "         0.32941177, 0.28627452],\n",
       "        ...,\n",
       "        [0.6666667 , 0.6       , 0.6313726 , ..., 0.52156866,\n",
       "         0.12156863, 0.13333334],\n",
       "        [0.54509807, 0.48235294, 0.5647059 , ..., 0.5803922 ,\n",
       "         0.24313726, 0.20784314],\n",
       "        [0.5647059 , 0.5058824 , 0.5568628 , ..., 0.72156864,\n",
       "         0.4627451 , 0.36078432]],\n",
       "\n",
       "       [[0.24705882, 0.1764706 , 0.16862746, ..., 0.42352942,\n",
       "         0.4       , 0.40392157],\n",
       "        [0.07843138, 0.        , 0.        , ..., 0.21568628,\n",
       "         0.19607843, 0.22352941],\n",
       "        [0.08235294, 0.        , 0.03137255, ..., 0.19607843,\n",
       "         0.19607843, 0.16470589],\n",
       "        ...,\n",
       "        [0.3764706 , 0.13333334, 0.10196079, ..., 0.27450982,\n",
       "         0.02745098, 0.07843138],\n",
       "        [0.3764706 , 0.16470589, 0.11764706, ..., 0.36862746,\n",
       "         0.13333334, 0.13333334],\n",
       "        [0.45490196, 0.36862746, 0.34117648, ..., 0.54901963,\n",
       "         0.32941177, 0.28235295]]], dtype=float32)"
      ]
     },
     "execution_count": 18,
     "metadata": {
      "tags": []
     },
     "output_type": "execute_result"
    }
   ],
   "source": [
    "x0_numpy"
   ]
  },
  {
   "cell_type": "code",
   "execution_count": null,
   "metadata": {
    "id": "ICSb5QlyUCoE"
   },
   "outputs": [],
   "source": []
  },
  {
   "cell_type": "markdown",
   "metadata": {
    "id": "XnlLu5IgZ01a"
   },
   "source": [
    "## Define Neural Network"
   ]
  },
  {
   "cell_type": "markdown",
   "metadata": {
    "id": "66tR5JtGZ4v7"
   },
   "source": [
    "### Fully-Connected"
   ]
  },
  {
   "cell_type": "code",
   "execution_count": null,
   "metadata": {
    "id": "iOlzkyhVaHb4"
   },
   "outputs": [],
   "source": [
    "# Option 1\n",
    "nn.Sequential\n",
    "\n",
    "# Option 2\n",
    "class SimpleNet(nn.Module):\n",
    "    def __init__(self):\n",
    "        super(SimpleNet, self).__init__()\n",
    "\n",
    "        # 1st fully connected layer\n",
    "        # hier genannt \"Linear\" (manchmal in anderen Frameworks auch \"Dense\" oder \"FC\")\n",
    "        self.fc1 = nn.Linear(in_features=784, out_features=300)\n",
    "\n",
    "        # weitere fully connected layer\n",
    "        self.fc2 = nn.Linear(in_features=300, out_features=100)\n",
    "        self.fc3 = nn.Linear(in_features=100, out_features=10)\n",
    "\n",
    "    def forward(self, x):\n",
    "        x = F.relu(self.fc1(x))\n",
    "        x = F.relu(self.fc2(x))\n",
    "        x = self.fc3(x)\n",
    "        return x\n",
    "\n",
    "simple_net = SimpleNet()"
   ]
  },
  {
   "cell_type": "code",
   "execution_count": null,
   "metadata": {
    "id": "7mbam__adN5C"
   },
   "outputs": [],
   "source": [
    "# Die Forward-Funktion wird durch direktes Aufrufen des Netzwerks angesprochen:\n",
    "out = simple_net(mnist_train_X)"
   ]
  },
  {
   "cell_type": "code",
   "execution_count": null,
   "metadata": {
    "colab": {
     "base_uri": "https://localhost:8080/"
    },
    "id": "5XlA8Nkje3qX",
    "outputId": "32898aa5-f3a2-4be9-d590-f84a116e1a58"
   },
   "outputs": [
    {
     "data": {
      "text/plain": [
       "torch.Size([20000, 10])"
      ]
     },
     "execution_count": 21,
     "metadata": {
      "tags": []
     },
     "output_type": "execute_result"
    }
   ],
   "source": [
    "out.shape"
   ]
  },
  {
   "cell_type": "code",
   "execution_count": null,
   "metadata": {
    "colab": {
     "base_uri": "https://localhost:8080/"
    },
    "id": "AYQJMzq_fxHg",
    "outputId": "6df93b00-6fb6-477c-d432-e87a58cc2a66"
   },
   "outputs": [
    {
     "name": "stdout",
     "output_type": "stream",
     "text": [
      "torch.Size([300, 784])\n",
      "torch.Size([20000, 300])\n",
      "torch.Size([20000, 300])\n"
     ]
    }
   ],
   "source": [
    "# Beispiel Fully-Connected Layer (Matrix Multiplikation)\n",
    "fc_layer = nn.Linear(in_features=784, out_features=300)\n",
    "print(fc_layer.weight.shape)\n",
    "\n",
    "out_fc = fc_layer(mnist_train_X)\n",
    "print(out_fc.shape)\n",
    "\n",
    "# manuell\n",
    "out_mm = torch.matmul(mnist_train_X, torch.transpose(fc_layer.weight, 0, 1)) - fc_layer.bias\n",
    "print(out_mm.shape)"
   ]
  },
  {
   "cell_type": "code",
   "execution_count": null,
   "metadata": {
    "colab": {
     "base_uri": "https://localhost:8080/"
    },
    "id": "TOqEK9dIhB8K",
    "outputId": "5b2f8be0-772b-4d57-e069-d218357b1d4b"
   },
   "outputs": [
    {
     "data": {
      "text/plain": [
       "tensor([[  27.3190,   69.4843,  -40.0979,  ...,    6.8572,  -96.1254,\n",
       "           44.6398],\n",
       "        [  -6.9334,   51.5421,   31.5235,  ...,   28.0583,  -47.1665,\n",
       "           12.2107],\n",
       "        [  23.6215,   33.7178,   11.0203,  ...,  -20.5984,   -7.9638,\n",
       "           -1.4193],\n",
       "        ...,\n",
       "        [-137.3582,   31.1245,   12.5914,  ...,   40.9899,  -14.8783,\n",
       "          100.1037],\n",
       "        [ -72.2464,   10.5822,  -29.6807,  ...,  -16.6769,    0.7557,\n",
       "           41.2986],\n",
       "        [ 103.9067,   40.1895,  -13.0218,  ...,  -30.1469,  -92.2643,\n",
       "           33.7929]], grad_fn=<AddmmBackward>)"
      ]
     },
     "execution_count": 23,
     "metadata": {
      "tags": []
     },
     "output_type": "execute_result"
    }
   ],
   "source": [
    "out_fc"
   ]
  },
  {
   "cell_type": "code",
   "execution_count": null,
   "metadata": {
    "colab": {
     "base_uri": "https://localhost:8080/"
    },
    "id": "HNY-QPDRhDdo",
    "outputId": "b256d6b9-3f8f-4666-e210-5c65093173e4"
   },
   "outputs": [
    {
     "data": {
      "text/plain": [
       "tensor([[  27.2772,   69.4486,  -40.0409,  ...,    6.8321,  -96.1600,\n",
       "           44.6198],\n",
       "        [  -6.9752,   51.5064,   31.5805,  ...,   28.0332,  -47.2011,\n",
       "           12.1907],\n",
       "        [  23.5796,   33.6821,   11.0774,  ...,  -20.6235,   -7.9985,\n",
       "           -1.4392],\n",
       "        ...,\n",
       "        [-137.4000,   31.0887,   12.6484,  ...,   40.9648,  -14.9129,\n",
       "          100.0838],\n",
       "        [ -72.2882,   10.5465,  -29.6237,  ...,  -16.7020,    0.7211,\n",
       "           41.2787],\n",
       "        [ 103.8648,   40.1538,  -12.9648,  ...,  -30.1720,  -92.2989,\n",
       "           33.7729]], grad_fn=<SubBackward0>)"
      ]
     },
     "execution_count": 24,
     "metadata": {
      "tags": []
     },
     "output_type": "execute_result"
    }
   ],
   "source": [
    "out_mm"
   ]
  },
  {
   "cell_type": "markdown",
   "metadata": {
    "id": "s20p2qGPZ3T0"
   },
   "source": [
    "### Convolutional"
   ]
  },
  {
   "cell_type": "code",
   "execution_count": null,
   "metadata": {
    "id": "9zo3a_25Z2PQ"
   },
   "outputs": [],
   "source": [
    "\n",
    "class ConvNet(nn.Module):\n",
    "    def __init__(self):\n",
    "        super(ConvNet, self).__init__()\n",
    "        self.conv1 = nn.Conv2d(3, 6, 5)\n",
    "        self.pool = nn.MaxPool2d(2, 2)\n",
    "        self.conv2 = nn.Conv2d(6, 16, 5)\n",
    "        self.fc1 = nn.Linear(16 * 5 * 5, 120)\n",
    "        self.fc2 = nn.Linear(120, 84)\n",
    "        self.fc3 = nn.Linear(84, 10)\n",
    "\n",
    "    def forward(self, x):\n",
    "        x = self.pool(F.relu(self.conv1(x)))\n",
    "        x = self.pool(F.relu(self.conv2(x)))\n",
    "        x = x.view(-1, 16 * 5 * 5)\n",
    "        x = F.relu(self.fc1(x))\n",
    "        x = F.relu(self.fc2(x))\n",
    "        x = self.fc3(x)\n",
    "        return x\n",
    "\n",
    "\n",
    "conv_net = ConvNet()"
   ]
  },
  {
   "cell_type": "code",
   "execution_count": null,
   "metadata": {
    "id": "X1Mec-AYaFOp"
   },
   "outputs": [],
   "source": []
  },
  {
   "cell_type": "markdown",
   "metadata": {
    "id": "5SaELYz9hgHE"
   },
   "source": [
    "## Training"
   ]
  },
  {
   "cell_type": "code",
   "execution_count": null,
   "metadata": {
    "id": "4ic8vyE7hnao"
   },
   "outputs": [],
   "source": [
    "criterion = nn.CrossEntropyLoss()\n",
    "optimizer = optim.SGD(simple_net.parameters(), lr=0.001, momentum=0.9)"
   ]
  },
  {
   "cell_type": "code",
   "execution_count": null,
   "metadata": {
    "id": "t1U3rU48jaS0"
   },
   "outputs": [],
   "source": [
    "outputs = simple_net(mnist_train_X)\n",
    "loss = criterion(outputs, mnist_train_y)"
   ]
  },
  {
   "cell_type": "code",
   "execution_count": null,
   "metadata": {
    "colab": {
     "base_uri": "https://localhost:8080/"
    },
    "id": "MbwqegGujoOK",
    "outputId": "dd6ddbf5-b303-4e4a-cabf-992666b12418"
   },
   "outputs": [
    {
     "data": {
      "text/plain": [
       "tensor(13.9658, grad_fn=<NllLossBackward>)"
      ]
     },
     "execution_count": 28,
     "metadata": {
      "tags": []
     },
     "output_type": "execute_result"
    }
   ],
   "source": [
    "loss"
   ]
  },
  {
   "cell_type": "code",
   "execution_count": null,
   "metadata": {
    "colab": {
     "base_uri": "https://localhost:8080/"
    },
    "id": "naazogzlj0ey",
    "outputId": "e44a3b6e-edbd-468d-882f-20300294e40b"
   },
   "outputs": [
    {
     "name": "stdout",
     "output_type": "stream",
     "text": [
      "None\n"
     ]
    }
   ],
   "source": [
    "print(simple_net.fc1.bias.grad)"
   ]
  },
  {
   "cell_type": "code",
   "execution_count": null,
   "metadata": {
    "colab": {
     "base_uri": "https://localhost:8080/"
    },
    "id": "IBVW7vgQj_0n",
    "outputId": "a4789969-c6f4-4e31-ef84-f1ee9e828bb9"
   },
   "outputs": [
    {
     "name": "stdout",
     "output_type": "stream",
     "text": [
      "tensor([ 4.8172e-03, -2.5183e-03,  1.6562e-03,  1.6482e-03,  1.3238e-03,\n",
      "         1.6557e-02,  3.6419e-03, -8.9200e-04,  2.1923e-03,  2.4880e-04,\n",
      "         8.2007e-03, -1.0611e-03,  2.6571e-03,  5.1430e-03,  6.3955e-03,\n",
      "         8.3258e-03,  3.7117e-04,  1.7698e-03, -1.2819e-03,  9.6285e-05,\n",
      "        -5.7164e-04,  1.1701e-03,  3.6929e-03, -5.3957e-04,  2.6054e-03,\n",
      "        -6.1043e-04,  6.2731e-04, -8.9662e-03,  1.2784e-03,  1.3435e-03,\n",
      "         9.9696e-04, -6.1121e-03,  1.8163e-03,  4.5826e-03,  4.6794e-03,\n",
      "         4.4532e-03,  1.5830e-03, -4.5234e-03,  2.6762e-03,  4.9832e-03,\n",
      "        -5.5435e-03, -1.2152e-04, -2.4580e-03, -9.2548e-04, -6.1224e-04,\n",
      "         3.6230e-03, -4.3957e-04,  7.8693e-03,  1.7731e-03,  3.1135e-03,\n",
      "        -3.1409e-04,  8.1769e-03, -2.6114e-03,  3.2884e-04,  7.9040e-04,\n",
      "        -1.0815e-04, -1.9927e-04, -4.0664e-03,  8.9115e-04, -1.9499e-03,\n",
      "        -2.0740e-03, -4.2787e-03,  5.2430e-03, -2.9243e-03,  3.2386e-03,\n",
      "        -4.0806e-04, -2.1918e-03,  2.1866e-03,  6.5456e-03,  5.4796e-03,\n",
      "        -1.2880e-03,  4.8956e-03,  1.3929e-03,  6.9453e-03,  2.6749e-03,\n",
      "         1.9981e-03,  2.6849e-03,  1.1803e-03, -1.8395e-03, -7.8584e-04,\n",
      "         5.1104e-03, -4.1592e-03, -1.4478e-03,  1.0474e-04,  1.7415e-03,\n",
      "         1.0120e-03,  1.1824e-03,  1.5711e-03, -5.2055e-04, -3.8505e-03,\n",
      "        -3.1144e-03,  5.9636e-04, -1.3820e-03,  9.0880e-04,  4.9193e-03,\n",
      "         9.6925e-03, -1.8290e-04, -1.3977e-03, -1.6754e-03, -7.5800e-04,\n",
      "         1.4126e-03,  4.2464e-03, -3.8465e-03,  3.1700e-03, -1.7288e-03,\n",
      "         9.2370e-03,  5.0686e-03, -3.5005e-03,  2.8947e-03,  2.3293e-03,\n",
      "         1.3564e-03,  9.3736e-05,  1.9356e-03,  4.2193e-03,  2.5119e-03,\n",
      "         2.1361e-03,  1.4106e-04, -1.1685e-03,  1.9467e-03,  3.1090e-03,\n",
      "         3.8928e-03, -1.4521e-03,  1.8074e-03,  7.5209e-04,  1.2250e-03,\n",
      "        -9.8844e-03,  5.0670e-04,  1.4120e-03,  4.9307e-03, -1.8876e-03,\n",
      "         4.9826e-04,  1.0913e-03, -3.9823e-03,  6.2685e-04,  8.4978e-04,\n",
      "        -5.0943e-04, -1.4602e-03,  9.7462e-03,  3.6965e-04, -4.3568e-03,\n",
      "         2.8694e-03, -6.2067e-03,  1.0192e-03, -7.9575e-05, -1.1387e-03,\n",
      "         1.7953e-02, -9.6719e-03,  3.1834e-03,  8.9563e-04,  6.0257e-03,\n",
      "         7.1927e-03, -5.6656e-04,  4.2391e-03, -2.0844e-03,  1.8518e-03,\n",
      "        -9.1644e-04,  1.8347e-03, -3.0003e-03, -1.4900e-03, -5.5158e-04,\n",
      "        -4.7515e-03, -5.1613e-03,  9.9151e-04, -1.0255e-03, -3.2758e-04,\n",
      "         2.1027e-03,  1.8140e-03,  1.6265e-03, -2.7138e-03, -9.6227e-04,\n",
      "        -5.0244e-04,  7.4036e-03,  1.8909e-03,  1.8118e-03, -5.7256e-04,\n",
      "         4.5945e-03, -1.6116e-04,  1.2421e-03,  1.2311e-03, -3.5036e-03,\n",
      "        -2.5974e-05, -3.0560e-03, -4.3695e-03, -2.1528e-03, -1.7807e-03,\n",
      "         2.1948e-03,  3.1032e-03, -5.9950e-04,  4.5221e-03,  8.0212e-04,\n",
      "         1.0385e-04, -1.3011e-03,  2.7979e-03,  3.1702e-03,  1.4259e-03,\n",
      "         7.1062e-03, -5.4314e-04, -7.4266e-04,  8.2976e-04, -2.5243e-03,\n",
      "         7.1747e-03,  4.7318e-04, -5.8244e-04, -1.6733e-03,  7.1340e-03,\n",
      "         5.9682e-04, -1.5759e-03, -6.6496e-04, -3.1073e-03, -4.4513e-03,\n",
      "        -8.6051e-06, -6.3709e-03, -2.5495e-03, -2.8906e-04,  7.6972e-03,\n",
      "         1.3309e-03, -4.1902e-03, -7.6903e-03,  1.7859e-03, -2.5220e-03,\n",
      "        -1.4542e-03,  9.1803e-03,  3.7177e-03,  3.5940e-03, -1.2827e-03,\n",
      "        -5.1228e-03, -4.0719e-04, -1.2433e-03,  2.0254e-04,  9.9618e-04,\n",
      "        -2.5733e-03, -4.7164e-05,  9.9343e-04,  2.9896e-04, -5.4697e-03,\n",
      "        -9.6476e-04, -1.4664e-04,  2.1362e-03, -2.0994e-03,  1.3068e-03,\n",
      "        -1.3384e-02,  5.6088e-04, -3.4114e-03, -2.3888e-04,  3.8860e-03,\n",
      "         2.7067e-03,  1.2136e-03, -5.6764e-03, -1.2948e-03,  5.9195e-03,\n",
      "         5.5223e-03, -1.3259e-03, -2.1775e-03, -7.3417e-03,  8.6806e-04,\n",
      "         5.9312e-03, -1.5846e-03,  5.5605e-03,  5.2592e-03,  3.9872e-03,\n",
      "         2.2563e-03, -2.9439e-03,  3.2050e-03,  5.4392e-03,  5.6255e-03,\n",
      "        -8.2156e-04,  4.1145e-05,  8.8197e-03, -4.8973e-03, -4.7215e-04,\n",
      "         3.7185e-04,  2.7154e-03, -6.4612e-04,  6.4879e-04,  3.7717e-05,\n",
      "        -1.8399e-04,  3.9334e-03,  3.7993e-03,  3.2040e-03,  1.5621e-03,\n",
      "         2.1272e-03, -4.2687e-03, -1.5580e-05,  5.9750e-03,  3.9192e-03,\n",
      "        -1.6287e-03, -7.1018e-03,  2.3351e-03,  9.9857e-04,  3.4171e-03,\n",
      "         5.2426e-03, -5.5533e-04,  5.1886e-03, -1.2279e-02, -6.5538e-03,\n",
      "         1.2676e-03, -2.1585e-03,  5.7800e-04, -2.0096e-03,  1.9710e-03])\n"
     ]
    }
   ],
   "source": [
    "loss.backward()\n",
    "print(simple_net.fc1.bias.grad)"
   ]
  },
  {
   "cell_type": "code",
   "execution_count": null,
   "metadata": {
    "colab": {
     "base_uri": "https://localhost:8080/"
    },
    "id": "s0MExSqmiLBJ",
    "outputId": "3256ec1f-cf0c-4392-c369-7138964cf168"
   },
   "outputs": [
    {
     "name": "stdout",
     "output_type": "stream",
     "text": [
      "[1,   100] loss: 1.538\n",
      "[1,   200] loss: 0.487\n",
      "[1,   300] loss: 0.377\n",
      "[1,   400] loss: 0.315\n",
      "[1,   500] loss: 0.299\n",
      "[1,   600] loss: 0.286\n",
      "[2,   100] loss: 0.242\n",
      "[2,   200] loss: 0.206\n",
      "[2,   300] loss: 0.175\n",
      "[2,   400] loss: 0.150\n",
      "[2,   500] loss: 0.157\n",
      "[2,   600] loss: 0.160\n",
      "[3,   100] loss: 0.143\n",
      "[3,   200] loss: 0.129\n",
      "[3,   300] loss: 0.112\n",
      "[3,   400] loss: 0.101\n",
      "[3,   500] loss: 0.108\n",
      "[3,   600] loss: 0.100\n",
      "[4,   100] loss: 0.101\n",
      "[4,   200] loss: 0.101\n",
      "[4,   300] loss: 0.090\n",
      "[4,   400] loss: 0.084\n",
      "[4,   500] loss: 0.090\n",
      "[4,   600] loss: 0.078\n",
      "[5,   100] loss: 0.089\n",
      "[5,   200] loss: 0.096\n",
      "[5,   300] loss: 0.082\n",
      "[5,   400] loss: 0.070\n",
      "[5,   500] loss: 0.083\n",
      "[5,   600] loss: 0.055\n",
      "[6,   100] loss: 0.059\n",
      "[6,   200] loss: 0.056\n",
      "[6,   300] loss: 0.048\n",
      "[6,   400] loss: 0.053\n",
      "[6,   500] loss: 0.060\n",
      "[6,   600] loss: 0.058\n",
      "[7,   100] loss: 0.054\n",
      "[7,   200] loss: 0.048\n",
      "[7,   300] loss: 0.050\n",
      "[7,   400] loss: 0.044\n",
      "[7,   500] loss: 0.087\n",
      "[7,   600] loss: 0.055\n",
      "[8,   100] loss: 0.041\n",
      "[8,   200] loss: 0.064\n",
      "[8,   300] loss: 0.054\n",
      "[8,   400] loss: 0.041\n",
      "[8,   500] loss: 0.057\n",
      "[8,   600] loss: 0.060\n",
      "[9,   100] loss: 0.051\n",
      "[9,   200] loss: 0.044\n",
      "[9,   300] loss: 0.031\n",
      "[9,   400] loss: 0.042\n",
      "[9,   500] loss: 0.045\n",
      "[9,   600] loss: 0.055\n",
      "[10,   100] loss: 0.035\n",
      "[10,   200] loss: 0.025\n",
      "[10,   300] loss: 0.031\n",
      "[10,   400] loss: 0.034\n",
      "[10,   500] loss: 0.029\n",
      "[10,   600] loss: 0.026\n",
      "Finished Training\n"
     ]
    }
   ],
   "source": [
    "for epoch in range(10):  # loop over the dataset multiple times\n",
    "\n",
    "    running_loss = 0.0\n",
    "    for i, batch in enumerate(mnist_trainloader, 0):\n",
    "        # get the inputs; data is a list of [inputs, labels]\n",
    "        inputs, labels = batch\n",
    "\n",
    "        # zero the parameter gradients\n",
    "        optimizer.zero_grad()\n",
    "\n",
    "        # forward + backward + optimize\n",
    "\n",
    "        # forward - Vorhersae\n",
    "        outputs = simple_net(inputs)\n",
    "        # forward - Verlust berechnen\n",
    "        loss = criterion(outputs, labels)\n",
    "\n",
    "        # backward\n",
    "        loss.backward()\n",
    "\n",
    "        # optimize\n",
    "        optimizer.step()\n",
    "\n",
    "        # print statistics\n",
    "        running_loss += loss.item()\n",
    "        if i % 100 == 99:    # print every 100 mini-batches\n",
    "            print('[%d, %5d] loss: %.3f' %\n",
    "                  (epoch + 1, i + 1, running_loss / 100))\n",
    "            running_loss = 0.0\n",
    "\n",
    "print('Finished Training')"
   ]
  },
  {
   "cell_type": "code",
   "execution_count": null,
   "metadata": {
    "colab": {
     "base_uri": "https://localhost:8080/"
    },
    "id": "YPYdVkckkcew",
    "outputId": "036e8f1e-8e95-47ae-efcb-aa7fa5bb8a3d"
   },
   "outputs": [
    {
     "name": "stdout",
     "output_type": "stream",
     "text": [
      "Accuracy of the network on the 10000 test images: 96 %\n"
     ]
    }
   ],
   "source": [
    "correct = 0\n",
    "total = 0\n",
    "with torch.no_grad():\n",
    "    for batch in mnist_testloader:\n",
    "        images, labels = batch\n",
    "        outputs = simple_net(images)\n",
    "        _, predicted = torch.max(outputs.data, 1)\n",
    "        total += labels.size(0)\n",
    "        correct += (predicted == labels).sum().item()\n",
    "\n",
    "print('Accuracy of the network on the 10000 test images: %d %%' % (\n",
    "    100 * correct / total))"
   ]
  },
  {
   "cell_type": "code",
   "execution_count": null,
   "metadata": {
    "id": "xHf6L1r8mpr0"
   },
   "outputs": [],
   "source": []
  }
 ],
 "metadata": {
  "accelerator": "GPU",
  "colab": {
   "collapsed_sections": [],
   "name": "PyTorch_Tutorial.ipynb",
   "provenance": []
  },
  "kernelspec": {
   "display_name": "Python 3",
   "language": "python",
   "name": "python3"
  },
  "language_info": {
   "codemirror_mode": {
    "name": "ipython",
    "version": 3
   },
   "file_extension": ".py",
   "mimetype": "text/x-python",
   "name": "python",
   "nbconvert_exporter": "python",
   "pygments_lexer": "ipython3",
   "version": "3.8.3"
  }
 },
 "nbformat": 4,
 "nbformat_minor": 4
}
